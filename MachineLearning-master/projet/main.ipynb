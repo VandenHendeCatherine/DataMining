{
 "cells": [
  {
   "cell_type": "markdown",
   "metadata": {},
   "source": [
    "## Collecte de données"
   ]
  },
  {
   "cell_type": "code",
   "execution_count": 3,
   "metadata": {},
   "outputs": [
    {
     "name": "stdout",
     "output_type": "stream",
     "text": [
      "Uninstalling kaggle-1.5.12:\n",
      "  /fs03/share/users/c.vanden-hende/home/.local/bin/kaggle\n",
      "  /fs03/share/users/c.vanden-hende/home/.local/lib/python2.7/site-packages/kaggle-1.5.12.egg-info\n",
      "  /fs03/share/users/c.vanden-hende/home/.local/lib/python2.7/site-packages/kaggle/__init__.py\n",
      "  /fs03/share/users/c.vanden-hende/home/.local/lib/python2.7/site-packages/kaggle/__init__.pyc\n",
      "  /fs03/share/users/c.vanden-hende/home/.local/lib/python2.7/site-packages/kaggle/api/__init__.py\n",
      "  /fs03/share/users/c.vanden-hende/home/.local/lib/python2.7/site-packages/kaggle/api/__init__.pyc\n",
      "  /fs03/share/users/c.vanden-hende/home/.local/lib/python2.7/site-packages/kaggle/api/kaggle_api.py\n",
      "  /fs03/share/users/c.vanden-hende/home/.local/lib/python2.7/site-packages/kaggle/api/kaggle_api.pyc\n",
      "  /fs03/share/users/c.vanden-hende/home/.local/lib/python2.7/site-packages/kaggle/api/kaggle_api_extended.py\n",
      "  /fs03/share/users/c.vanden-hende/home/.local/lib/python2.7/site-packages/kaggle/api/kaggle_api_extended.pyc\n",
      "  /fs03/share/users/c.vanden-hende/home/.local/lib/python2.7/site-packages/kaggle/api_client.py\n",
      "  /fs03/share/users/c.vanden-hende/home/.local/lib/python2.7/site-packages/kaggle/api_client.pyc\n",
      "  /fs03/share/users/c.vanden-hende/home/.local/lib/python2.7/site-packages/kaggle/cli.py\n",
      "  /fs03/share/users/c.vanden-hende/home/.local/lib/python2.7/site-packages/kaggle/cli.pyc\n",
      "  /fs03/share/users/c.vanden-hende/home/.local/lib/python2.7/site-packages/kaggle/configuration.py\n",
      "  /fs03/share/users/c.vanden-hende/home/.local/lib/python2.7/site-packages/kaggle/configuration.pyc\n",
      "  /fs03/share/users/c.vanden-hende/home/.local/lib/python2.7/site-packages/kaggle/models/__init__.py\n",
      "  /fs03/share/users/c.vanden-hende/home/.local/lib/python2.7/site-packages/kaggle/models/__init__.pyc\n",
      "  /fs03/share/users/c.vanden-hende/home/.local/lib/python2.7/site-packages/kaggle/models/collaborator.py\n",
      "  /fs03/share/users/c.vanden-hende/home/.local/lib/python2.7/site-packages/kaggle/models/collaborator.pyc\n",
      "  /fs03/share/users/c.vanden-hende/home/.local/lib/python2.7/site-packages/kaggle/models/dataset_column.py\n",
      "  /fs03/share/users/c.vanden-hende/home/.local/lib/python2.7/site-packages/kaggle/models/dataset_column.pyc\n",
      "  /fs03/share/users/c.vanden-hende/home/.local/lib/python2.7/site-packages/kaggle/models/dataset_new_request.py\n",
      "  /fs03/share/users/c.vanden-hende/home/.local/lib/python2.7/site-packages/kaggle/models/dataset_new_request.pyc\n",
      "  /fs03/share/users/c.vanden-hende/home/.local/lib/python2.7/site-packages/kaggle/models/dataset_new_version_request.py\n",
      "  /fs03/share/users/c.vanden-hende/home/.local/lib/python2.7/site-packages/kaggle/models/dataset_new_version_request.pyc\n",
      "  /fs03/share/users/c.vanden-hende/home/.local/lib/python2.7/site-packages/kaggle/models/dataset_update_settings_request.py\n",
      "  /fs03/share/users/c.vanden-hende/home/.local/lib/python2.7/site-packages/kaggle/models/dataset_update_settings_request.pyc\n",
      "  /fs03/share/users/c.vanden-hende/home/.local/lib/python2.7/site-packages/kaggle/models/dataset_upload_file.py\n",
      "  /fs03/share/users/c.vanden-hende/home/.local/lib/python2.7/site-packages/kaggle/models/dataset_upload_file.pyc\n",
      "  /fs03/share/users/c.vanden-hende/home/.local/lib/python2.7/site-packages/kaggle/models/error.py\n",
      "  /fs03/share/users/c.vanden-hende/home/.local/lib/python2.7/site-packages/kaggle/models/error.pyc\n",
      "  /fs03/share/users/c.vanden-hende/home/.local/lib/python2.7/site-packages/kaggle/models/kaggle_models_extended.py\n",
      "  /fs03/share/users/c.vanden-hende/home/.local/lib/python2.7/site-packages/kaggle/models/kaggle_models_extended.pyc\n",
      "  /fs03/share/users/c.vanden-hende/home/.local/lib/python2.7/site-packages/kaggle/models/kernel_push_request.py\n",
      "  /fs03/share/users/c.vanden-hende/home/.local/lib/python2.7/site-packages/kaggle/models/kernel_push_request.pyc\n",
      "  /fs03/share/users/c.vanden-hende/home/.local/lib/python2.7/site-packages/kaggle/models/license.py\n",
      "  /fs03/share/users/c.vanden-hende/home/.local/lib/python2.7/site-packages/kaggle/models/license.pyc\n",
      "  /fs03/share/users/c.vanden-hende/home/.local/lib/python2.7/site-packages/kaggle/models/result.py\n",
      "  /fs03/share/users/c.vanden-hende/home/.local/lib/python2.7/site-packages/kaggle/models/result.pyc\n",
      "  /fs03/share/users/c.vanden-hende/home/.local/lib/python2.7/site-packages/kaggle/rest.py\n",
      "  /fs03/share/users/c.vanden-hende/home/.local/lib/python2.7/site-packages/kaggle/rest.pyc\n",
      "  /fs03/share/users/c.vanden-hende/home/.local/lib/python2.7/site-packages/kaggle/tests/__init__.py\n",
      "  /fs03/share/users/c.vanden-hende/home/.local/lib/python2.7/site-packages/kaggle/tests/__init__.pyc\n",
      "  /fs03/share/users/c.vanden-hende/home/.local/lib/python2.7/site-packages/kaggle/tests/test_authenticate.py\n",
      "  /fs03/share/users/c.vanden-hende/home/.local/lib/python2.7/site-packages/kaggle/tests/test_authenticate.pyc\n",
      "Proceed (y/n)? "
     ]
    }
   ],
   "source": [
    "#!pip install requests\n",
    "\n",
    "import requests\n",
    "response = requests.get('https://www.kaggle.com/chetankv/dogs-cats-images')\n",
    "#print(response.json())\n",
    "!pip uninstall kaggle\n",
    "#!kaggle datasets download -d chetankv/dogs-cats-images"
   ]
  }
 ],
 "metadata": {
  "interpreter": {
   "hash": "31f2aee4e71d21fbe5cf8b01ff0e069b9275f58929596ceb00d14d90e3e16cd6"
  },
  "kernelspec": {
   "display_name": "Python 3.6.9 64-bit",
   "language": "python",
   "name": "python3"
  },
  "language_info": {
   "codemirror_mode": {
    "name": "ipython",
    "version": 2
   },
   "file_extension": ".py",
   "mimetype": "text/x-python",
   "name": "python",
   "nbconvert_exporter": "python",
   "pygments_lexer": "ipython2",
   "version": "2.7.17"
  },
  "orig_nbformat": 4
 },
 "nbformat": 4,
 "nbformat_minor": 2
}
